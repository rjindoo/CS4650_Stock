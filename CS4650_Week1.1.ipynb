{
 "cells": [
  {
   "cell_type": "code",
   "execution_count": 12,
   "metadata": {},
   "outputs": [],
   "source": [
    "import pandas as pd\n",
    "import numpy as np\n",
    "import matplotlib.pyplot as plt\n",
    "from sklearn.preprocessing import MinMaxScaler\n",
    "from keras.models import Sequential, load_model\n",
    "from keras.layers import LSTM, Dense, Dropout"
   ]
  },
  {
   "cell_type": "code",
   "execution_count": 13,
   "metadata": {},
   "outputs": [
    {
     "data": {
      "text/html": [
       "<div>\n",
       "<style scoped>\n",
       "    .dataframe tbody tr th:only-of-type {\n",
       "        vertical-align: middle;\n",
       "    }\n",
       "\n",
       "    .dataframe tbody tr th {\n",
       "        vertical-align: top;\n",
       "    }\n",
       "\n",
       "    .dataframe thead th {\n",
       "        text-align: right;\n",
       "    }\n",
       "</style>\n",
       "<table border=\"1\" class=\"dataframe\">\n",
       "  <thead>\n",
       "    <tr style=\"text-align: right;\">\n",
       "      <th></th>\n",
       "      <th>Date</th>\n",
       "      <th>Open</th>\n",
       "      <th>High</th>\n",
       "      <th>Low</th>\n",
       "      <th>Close</th>\n",
       "      <th>Adj Close</th>\n",
       "      <th>Volume</th>\n",
       "    </tr>\n",
       "  </thead>\n",
       "  <tbody>\n",
       "    <tr>\n",
       "      <th>1255</th>\n",
       "      <td>11/11/21</td>\n",
       "      <td>506.200012</td>\n",
       "      <td>512.500000</td>\n",
       "      <td>504.040009</td>\n",
       "      <td>512.179993</td>\n",
       "      <td>512.179993</td>\n",
       "      <td>1227300.0</td>\n",
       "    </tr>\n",
       "    <tr>\n",
       "      <th>1256</th>\n",
       "      <td>11/12/21</td>\n",
       "      <td>514.250000</td>\n",
       "      <td>519.659973</td>\n",
       "      <td>513.229980</td>\n",
       "      <td>517.169983</td>\n",
       "      <td>517.169983</td>\n",
       "      <td>1779500.0</td>\n",
       "    </tr>\n",
       "    <tr>\n",
       "      <th>1257</th>\n",
       "      <td>11/15/21</td>\n",
       "      <td>518.489990</td>\n",
       "      <td>523.099976</td>\n",
       "      <td>518.010010</td>\n",
       "      <td>519.890015</td>\n",
       "      <td>519.890015</td>\n",
       "      <td>1391900.0</td>\n",
       "    </tr>\n",
       "    <tr>\n",
       "      <th>1258</th>\n",
       "      <td>11/16/21</td>\n",
       "      <td>NaN</td>\n",
       "      <td>NaN</td>\n",
       "      <td>NaN</td>\n",
       "      <td>NaN</td>\n",
       "      <td>NaN</td>\n",
       "      <td>NaN</td>\n",
       "    </tr>\n",
       "    <tr>\n",
       "      <th>1259</th>\n",
       "      <td>11/17/21</td>\n",
       "      <td>NaN</td>\n",
       "      <td>NaN</td>\n",
       "      <td>NaN</td>\n",
       "      <td>NaN</td>\n",
       "      <td>NaN</td>\n",
       "      <td>NaN</td>\n",
       "    </tr>\n",
       "  </tbody>\n",
       "</table>\n",
       "</div>"
      ],
      "text/plain": [
       "          Date        Open        High         Low       Close   Adj Close  \\\n",
       "1255  11/11/21  506.200012  512.500000  504.040009  512.179993  512.179993   \n",
       "1256  11/12/21  514.250000  519.659973  513.229980  517.169983  517.169983   \n",
       "1257  11/15/21  518.489990  523.099976  518.010010  519.890015  519.890015   \n",
       "1258  11/16/21         NaN         NaN         NaN         NaN         NaN   \n",
       "1259  11/17/21         NaN         NaN         NaN         NaN         NaN   \n",
       "\n",
       "         Volume  \n",
       "1255  1227300.0  \n",
       "1256  1779500.0  \n",
       "1257  1391900.0  \n",
       "1258        NaN  \n",
       "1259        NaN  "
      ]
     },
     "execution_count": 13,
     "metadata": {},
     "output_type": "execute_result"
    }
   ],
   "source": [
    "df = pd.read_csv('COST.csv')\n",
    "df.tail()"
   ]
  },
  {
   "cell_type": "code",
   "execution_count": 5,
   "metadata": {},
   "outputs": [],
   "source": [
    "df = df['Open'].values\n",
    "df = df.reshape(-1, 1)\n",
    "train = np.array(df[:int(df.shape[0]*0.7)])\n",
    "test = np.array(df[int(df.shape[0]*0.7):])\n",
    "scaler = MinMaxScaler(feature_range=(0,1))\n",
    "train = scaler.fit_transform(train)\n",
    "test = scaler.fit_transform(test)"
   ]
  },
  {
   "cell_type": "code",
   "execution_count": 6,
   "metadata": {},
   "outputs": [],
   "source": [
    "def create_dataset(df):\n",
    "    x = []\n",
    "    y = []\n",
    "    for i in range(50, df.shape[0]):\n",
    "        x.append(df[i-50:i, 0])\n",
    "        y.append(df[i, 0])\n",
    "    x = np.array(x)\n",
    "    y = np.array(y)\n",
    "    return x,y"
   ]
  },
  {
   "cell_type": "code",
   "execution_count": 7,
   "metadata": {},
   "outputs": [],
   "source": [
    "x_train, y_train = create_dataset(train)\n",
    "x_test, y_test = create_dataset(test)\n",
    "x_train = np.reshape(x_train, (x_train.shape[0], x_train.shape[1], 1))\n",
    "x_test = np.reshape(x_test, (x_test.shape[0], x_test.shape[1], 1))"
   ]
  },
  {
   "cell_type": "code",
   "execution_count": 8,
   "metadata": {},
   "outputs": [
    {
     "name": "stderr",
     "output_type": "stream",
     "text": [
      "2021-11-19 13:18:38.071510: I tensorflow/core/platform/cpu_feature_guard.cc:151] This TensorFlow binary is optimized with oneAPI Deep Neural Network Library (oneDNN) to use the following CPU instructions in performance-critical operations:  AVX2 FMA\n",
      "To enable them in other operations, rebuild TensorFlow with the appropriate compiler flags.\n"
     ]
    }
   ],
   "source": [
    "model = Sequential()\n",
    "model.add(LSTM(units=96, return_sequences=True, input_shape=(x_train.shape[1], 1)))\n",
    "model.add(Dropout(0.2))\n",
    "model.add(LSTM(units=96,return_sequences=True))\n",
    "model.add(Dropout(0.2))\n",
    "model.add(LSTM(units=96,return_sequences=True))\n",
    "model.add(Dropout(0.2))\n",
    "model.add(LSTM(units=96))\n",
    "model.add(Dropout(0.2))\n",
    "model.add(Dense(units=1))"
   ]
  },
  {
   "cell_type": "code",
   "execution_count": 15,
   "metadata": {},
   "outputs": [
    {
     "name": "stdout",
     "output_type": "stream",
     "text": [
      "(328, 50, 1)\n"
     ]
    }
   ],
   "source": [
    "x_train = np.reshape(x_train, (x_train.shape[0], x_train.shape[1], 1))\n",
    "x_test = np.reshape(x_test, (x_test.shape[0], x_test.shape[1], 1))\n",
    "model.compile(loss='mean_squared_error', optimizer='adam')\n",
    "print(x_test.shape)"
   ]
  },
  {
   "cell_type": "code",
   "execution_count": 10,
   "metadata": {},
   "outputs": [
    {
     "name": "stdout",
     "output_type": "stream",
     "text": [
      "Epoch 1/50\n",
      "13/13 [==============================] - 7s 146ms/step - loss: 0.0730\n",
      "Epoch 2/50\n",
      "13/13 [==============================] - 2s 160ms/step - loss: 0.0132\n",
      "Epoch 3/50\n",
      "13/13 [==============================] - 2s 163ms/step - loss: 0.0074\n",
      "Epoch 4/50\n",
      "13/13 [==============================] - 2s 159ms/step - loss: 0.0050\n",
      "Epoch 5/50\n",
      "13/13 [==============================] - 2s 158ms/step - loss: 0.0044\n",
      "Epoch 6/50\n",
      "13/13 [==============================] - 2s 143ms/step - loss: 0.0046\n",
      "Epoch 7/50\n",
      "13/13 [==============================] - 2s 150ms/step - loss: 0.0044\n",
      "Epoch 8/50\n",
      "13/13 [==============================] - 2s 168ms/step - loss: 0.0046\n",
      "Epoch 9/50\n",
      "13/13 [==============================] - 2s 143ms/step - loss: 0.0039\n",
      "Epoch 10/50\n",
      "13/13 [==============================] - 2s 165ms/step - loss: 0.0040\n",
      "Epoch 11/50\n",
      "13/13 [==============================] - 2s 160ms/step - loss: 0.0037\n",
      "Epoch 12/50\n",
      "13/13 [==============================] - 2s 169ms/step - loss: 0.0041\n",
      "Epoch 13/50\n",
      "13/13 [==============================] - 2s 160ms/step - loss: 0.0040\n",
      "Epoch 14/50\n",
      "13/13 [==============================] - 2s 161ms/step - loss: 0.0034\n",
      "Epoch 15/50\n",
      "13/13 [==============================] - 2s 151ms/step - loss: 0.0039\n",
      "Epoch 16/50\n",
      "13/13 [==============================] - 2s 157ms/step - loss: 0.0034\n",
      "Epoch 17/50\n",
      "13/13 [==============================] - 2s 162ms/step - loss: 0.0036\n",
      "Epoch 18/50\n",
      "13/13 [==============================] - 2s 156ms/step - loss: 0.0038\n",
      "Epoch 19/50\n",
      "13/13 [==============================] - 2s 182ms/step - loss: 0.0036\n",
      "Epoch 20/50\n",
      "13/13 [==============================] - 2s 170ms/step - loss: 0.0031\n",
      "Epoch 21/50\n",
      "13/13 [==============================] - 2s 150ms/step - loss: 0.0033\n",
      "Epoch 22/50\n",
      "13/13 [==============================] - 2s 142ms/step - loss: 0.0032\n",
      "Epoch 23/50\n",
      "13/13 [==============================] - 2s 141ms/step - loss: 0.0036\n",
      "Epoch 24/50\n",
      "13/13 [==============================] - 2s 148ms/step - loss: 0.0034\n",
      "Epoch 25/50\n",
      "13/13 [==============================] - 2s 144ms/step - loss: 0.0034\n",
      "Epoch 26/50\n",
      "13/13 [==============================] - 2s 146ms/step - loss: 0.0029\n",
      "Epoch 27/50\n",
      "13/13 [==============================] - 2s 143ms/step - loss: 0.0030\n",
      "Epoch 28/50\n",
      "13/13 [==============================] - 2s 148ms/step - loss: 0.0030\n",
      "Epoch 29/50\n",
      "13/13 [==============================] - 2s 144ms/step - loss: 0.0032\n",
      "Epoch 30/50\n",
      "13/13 [==============================] - 2s 142ms/step - loss: 0.0033\n",
      "Epoch 31/50\n",
      "13/13 [==============================] - 2s 148ms/step - loss: 0.0031\n",
      "Epoch 32/50\n",
      "13/13 [==============================] - 2s 144ms/step - loss: 0.0034\n",
      "Epoch 33/50\n",
      "13/13 [==============================] - 2s 142ms/step - loss: 0.0031\n",
      "Epoch 34/50\n",
      "13/13 [==============================] - 2s 139ms/step - loss: 0.0033\n",
      "Epoch 35/50\n",
      "13/13 [==============================] - 2s 143ms/step - loss: 0.0032\n",
      "Epoch 36/50\n",
      "13/13 [==============================] - 2s 140ms/step - loss: 0.0028\n",
      "Epoch 37/50\n",
      "13/13 [==============================] - 2s 141ms/step - loss: 0.0033\n",
      "Epoch 38/50\n",
      "13/13 [==============================] - 2s 143ms/step - loss: 0.0030\n",
      "Epoch 39/50\n",
      "13/13 [==============================] - 2s 141ms/step - loss: 0.0034\n",
      "Epoch 40/50\n",
      "13/13 [==============================] - 2s 140ms/step - loss: 0.0029\n",
      "Epoch 41/50\n",
      "13/13 [==============================] - 2s 142ms/step - loss: 0.0030\n",
      "Epoch 42/50\n",
      "13/13 [==============================] - 2s 143ms/step - loss: 0.0030\n",
      "Epoch 43/50\n",
      "13/13 [==============================] - 2s 153ms/step - loss: 0.0042\n",
      "Epoch 44/50\n",
      "13/13 [==============================] - 2s 141ms/step - loss: 0.0036\n",
      "Epoch 45/50\n",
      "13/13 [==============================] - 2s 149ms/step - loss: 0.0031\n",
      "Epoch 46/50\n",
      "13/13 [==============================] - 2s 145ms/step - loss: 0.0028\n",
      "Epoch 47/50\n",
      "13/13 [==============================] - 2s 154ms/step - loss: 0.0027\n",
      "Epoch 48/50\n",
      "13/13 [==============================] - 2s 143ms/step - loss: 0.0029\n",
      "Epoch 49/50\n",
      "13/13 [==============================] - 2s 152ms/step - loss: 0.0026\n",
      "Epoch 50/50\n",
      "13/13 [==============================] - 2s 149ms/step - loss: 0.0026\n"
     ]
    },
    {
     "data": {
      "text/plain": [
       "<keras.callbacks.History at 0x7f999dc1b7f0>"
      ]
     },
     "execution_count": 10,
     "metadata": {},
     "output_type": "execute_result"
    }
   ],
   "source": [
    "model.fit(x_train, y_train, epochs=50, batch_size=64)"
   ]
  },
  {
   "cell_type": "code",
   "execution_count": 16,
   "metadata": {},
   "outputs": [
    {
     "name": "stdout",
     "output_type": "stream",
     "text": [
      "(328, 1)\n"
     ]
    },
    {
     "data": {
      "text/plain": [
       "<matplotlib.legend.Legend at 0x7f9981f5afd0>"
      ]
     },
     "execution_count": 16,
     "metadata": {},
     "output_type": "execute_result"
    },
    {
     "data": {
      "image/png": "[encoded data removed]",
      "text/plain": [
       "<Figure size 1152x576 with 1 Axes>"
      ]
     },
     "metadata": {
      "needs_background": "light"
     },
     "output_type": "display_data"
    }
   ],
   "source": [
    "predictions = model.predict(x_test)\n",
    "print(predictions.shape)\n",
    "predictions = scaler.inverse_transform(predictions)\n",
    "y_test_scaled = scaler.inverse_transform(y_test.reshape(-1, 1))\n",
    "\n",
    "fig, ax = plt.subplots(figsize=(16,8))\n",
    "ax.set_facecolor('#000000')\n",
    "ax.plot(y_test_scaled, color='red', label='Original price')\n",
    "plt.plot(predictions, color='cyan', label='Predicted price')\n",
    "plt.legend()"
   ]
  },
  {
   "cell_type": "code",
   "execution_count": null,
   "metadata": {},
   "outputs": [],
   "source": []
  }
 ],
 "metadata": {
  "kernelspec": {
   "display_name": "Python 3 (ipykernel)",
   "language": "python",
   "name": "python3"
  },
  "language_info": {
   "codemirror_mode": {
    "name": "ipython",
    "version": 3
   },
   "file_extension": ".py",
   "mimetype": "text/x-python",
   "name": "python",
   "nbconvert_exporter": "python",
   "pygments_lexer": "ipython3",
   "version": "3.9.7"
  }
 },
 "nbformat": 4,
 "nbformat_minor": 2
}
