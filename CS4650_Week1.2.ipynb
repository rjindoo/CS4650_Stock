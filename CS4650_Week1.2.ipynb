{
 "cells": [
  {
   "cell_type": "code",
   "execution_count": 115,
   "metadata": {},
   "outputs": [],
   "source": [
    "import pandas as pd\n",
    "import numpy as np\n",
    "import pandas_datareader as web\n",
    "import datetime as dt\n",
    "import matplotlib.pyplot as plt\n",
    "from sklearn.preprocessing import MinMaxScaler\n",
    "from tensorflow.keras.models import Sequential\n",
    "from tensorflow.keras.layers import Dense, Dropout, LSTM"
   ]
  },
  {
   "cell_type": "code",
   "execution_count": 116,
   "metadata": {},
   "outputs": [],
   "source": [
    "company = 'SQ'\n",
    "\n",
    "start = dt.datetime(2012,1,1)\n",
    "end = dt.datetime(2021,5,5)\n",
    "\n",
    "data = web.DataReader(company, 'yahoo', start, end)"
   ]
  },
  {
   "cell_type": "code",
   "execution_count": 117,
   "metadata": {},
   "outputs": [],
   "source": [
    "scaler = MinMaxScaler(feature_range=(0,1))\n",
    "scaled_data = scaler.fit_transform(data['Close'].values.reshape(-1,1))\n"
   ]
  },
  {
   "cell_type": "code",
   "execution_count": 118,
   "metadata": {},
   "outputs": [],
   "source": [
    "prediction_days = 60\n",
    "x_train = []\n",
    "y_train = []\n",
    "for x in range(prediction_days, len(scaled_data)):\n",
    "    x_train.append(scaled_data[x-prediction_days:x, 0])\n",
    "    y_train.append(scaled_data[x, 0])\n",
    "x_train, y_train = np.array(x_train), np.array(y_train)\n",
    "x_train = np.reshape(x_train, (x_train.shape[0], x_train.shape[1], 1))"
   ]
  },
  {
   "cell_type": "code",
   "execution_count": 119,
   "metadata": {},
   "outputs": [],
   "source": [
    "model = Sequential()\n",
    "model.add(LSTM(units=96, return_sequences=True, input_shape=(x_train.shape[1], 1)))\n",
    "model.add(Dropout(0.2))\n",
    "model.add(LSTM(units=96,return_sequences=True))\n",
    "model.add(Dropout(0.2))\n",
    "model.add(LSTM(units=96,return_sequences=True))\n",
    "model.add(Dropout(0.2))\n",
    "model.add(LSTM(units=96))\n",
    "model.add(Dropout(0.2))\n",
    "model.add(Dense(units=1))"
   ]
  },
  {
   "cell_type": "code",
   "execution_count": 120,
   "metadata": {},
   "outputs": [
    {
     "name": "stdout",
     "output_type": "stream",
     "text": [
      "Epoch 1/25\n",
      "42/42 [==============================] - 9s 108ms/step - loss: 0.0137\n",
      "Epoch 2/25\n",
      "42/42 [==============================] - 5s 110ms/step - loss: 0.0027\n",
      "Epoch 3/25\n",
      "42/42 [==============================] - 5s 115ms/step - loss: 0.0057\n",
      "Epoch 4/25\n",
      "42/42 [==============================] - 5s 107ms/step - loss: 0.0020\n",
      "Epoch 5/25\n",
      "42/42 [==============================] - 5s 108ms/step - loss: 0.0017\n",
      "Epoch 6/25\n",
      "42/42 [==============================] - 5s 108ms/step - loss: 0.0024\n",
      "Epoch 7/25\n",
      "42/42 [==============================] - 5s 108ms/step - loss: 0.0018\n",
      "Epoch 8/25\n",
      "42/42 [==============================] - 5s 110ms/step - loss: 0.0017\n",
      "Epoch 9/25\n",
      "42/42 [==============================] - 5s 109ms/step - loss: 0.0027\n",
      "Epoch 10/25\n",
      "42/42 [==============================] - 5s 108ms/step - loss: 0.0017\n",
      "Epoch 11/25\n",
      "42/42 [==============================] - 5s 108ms/step - loss: 0.0016\n",
      "Epoch 12/25\n",
      "42/42 [==============================] - 5s 108ms/step - loss: 0.0017\n",
      "Epoch 13/25\n",
      "42/42 [==============================] - 5s 108ms/step - loss: 0.0018\n",
      "Epoch 14/25\n",
      "42/42 [==============================] - 5s 108ms/step - loss: 0.0017\n",
      "Epoch 15/25\n",
      "42/42 [==============================] - 5s 109ms/step - loss: 0.0016\n",
      "Epoch 16/25\n",
      "42/42 [==============================] - 5s 118ms/step - loss: 0.0015\n",
      "Epoch 17/25\n",
      "42/42 [==============================] - 5s 109ms/step - loss: 0.0015\n",
      "Epoch 18/25\n",
      "42/42 [==============================] - 5s 109ms/step - loss: 0.0015\n",
      "Epoch 19/25\n",
      "42/42 [==============================] - 7s 164ms/step - loss: 0.0016\n",
      "Epoch 20/25\n",
      "42/42 [==============================] - 6s 137ms/step - loss: 0.0014\n",
      "Epoch 21/25\n",
      "42/42 [==============================] - 6s 132ms/step - loss: 0.0015\n",
      "Epoch 22/25\n",
      "42/42 [==============================] - 5s 130ms/step - loss: 0.0041\n",
      "Epoch 23/25\n",
      "42/42 [==============================] - 6s 131ms/step - loss: 0.0017\n",
      "Epoch 24/25\n",
      "42/42 [==============================] - 6s 133ms/step - loss: 0.0016\n",
      "Epoch 25/25\n",
      "42/42 [==============================] - 5s 126ms/step - loss: 0.0016\n"
     ]
    },
    {
     "data": {
      "text/plain": [
       "<keras.callbacks.History at 0x7fba7083b880>"
      ]
     },
     "execution_count": 120,
     "metadata": {},
     "output_type": "execute_result"
    }
   ],
   "source": [
    "model.compile(optimizer='adam', loss='mean_squared_error')\n",
    "model.fit(x_train, y_train, epochs=25, batch_size=32)"
   ]
  },
  {
   "cell_type": "code",
   "execution_count": 121,
   "metadata": {},
   "outputs": [],
   "source": [
    "test_start = dt.datetime(2021,5,5)\n",
    "test_end = dt.datetime.now()\n",
    "\n",
    "test_data = web.DataReader(company, 'yahoo', test_start, test_end)\n",
    "actual_prices = test_data['Close'].values\n",
    "\n",
    "total_dataset = pd.concat((data['Close'], test_data['Close']), axis=0)"
   ]
  },
  {
   "cell_type": "code",
   "execution_count": 122,
   "metadata": {},
   "outputs": [],
   "source": [
    "model_inputs = total_dataset[len(total_dataset) - len(test_data) - prediction_days:].values\n",
    "model_inputs = model_inputs.reshape(-1,1)\n",
    "model_inputs = scaler.transform(model_inputs)"
   ]
  },
  {
   "cell_type": "code",
   "execution_count": 123,
   "metadata": {},
   "outputs": [],
   "source": [
    "x_test = []\n",
    "\n",
    "for x in range(prediction_days, len(model_inputs)):\n",
    "    x_test.append(model_inputs[x-prediction_days:x, 0])\n",
    "x_test = np.array(x_test)\n",
    "x_test = np.reshape(x_test, (x_test.shape[0], x_test.shape[1], 1))"
   ]
  },
  {
   "cell_type": "code",
   "execution_count": 124,
   "metadata": {},
   "outputs": [],
   "source": [
    "predicted_prices = model.predict(x_test)\n",
    "predicted_prices = scaler.inverse_transform(predicted_prices)"
   ]
  },
  {
   "cell_type": "code",
   "execution_count": 125,
   "metadata": {},
   "outputs": [
    {
     "data": {
      "text/plain": [
       "Text(0, 0.5, 'Share Price')"
      ]
     },
     "execution_count": 125,
     "metadata": {},
     "output_type": "execute_result"
    },
    {
     "data": {
      "image/png": "[encoded data removed]",
      "text/plain": [
       "<Figure size 432x288 with 1 Axes>"
      ]
     },
     "metadata": {
      "needs_background": "light"
     },
     "output_type": "display_data"
    }
   ],
   "source": [
    "plt.plot(actual_prices, color='red', label='Actual price')\n",
    "plt.plot(predicted_prices, color='blue', label='Predicted price')\n",
    "plt.xlabel('Time')\n",
    "plt.ylabel('Share Price')"
   ]
  },
  {
   "cell_type": "code",
   "execution_count": null,
   "metadata": {},
   "outputs": [],
   "source": []
  }
 ],
 "metadata": {
  "kernelspec": {
   "display_name": "Python 3 (ipykernel)",
   "language": "python",
   "name": "python3"
  },
  "language_info": {
   "codemirror_mode": {
    "name": "ipython",
    "version": 3
   },
   "file_extension": ".py",
   "mimetype": "text/x-python",
   "name": "python",
   "nbconvert_exporter": "python",
   "pygments_lexer": "ipython3",
   "version": "3.9.7"
  }
 },
 "nbformat": 4,
 "nbformat_minor": 2
}
